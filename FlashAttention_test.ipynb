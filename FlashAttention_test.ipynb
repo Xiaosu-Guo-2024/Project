{
  "nbformat": 4,
  "nbformat_minor": 0,
  "metadata": {
    "colab": {
      "provenance": [],
      "machine_shape": "hm",
      "gpuType": "L4"
    },
    "kernelspec": {
      "name": "python3",
      "display_name": "Python 3"
    },
    "language_info": {
      "name": "python"
    },
    "accelerator": "GPU"
  },
  "cells": [
    {
      "cell_type": "code",
      "execution_count": 2,
      "metadata": {
        "colab": {
          "base_uri": "https://localhost:8080/"
        },
        "id": "IoLqzdNuOrsq",
        "outputId": "63cb5edc-be44-4ce4-8098-69c2ed15812a"
      },
      "outputs": [
        {
          "output_type": "stream",
          "name": "stdout",
          "text": [
            "Tensor Flow Version: 2.15.0\n",
            "\n",
            "GPU is AVAILABLE\n"
          ]
        }
      ],
      "source": [
        "import os\n",
        "import pandas as pd\n",
        "import random\n",
        "import matplotlib.pyplot as plt\n",
        "import keras\n",
        "import tensorflow as tf\n",
        "import string\n",
        "import re\n",
        "import numpy as np\n",
        "\n",
        "print(f\"Tensor Flow Version: {tf.__version__}\")\n",
        "print()\n",
        "gpu = len(tf.config.list_physical_devices('GPU'))>0\n",
        "print(\"GPU is\", \"AVAILABLE\" if gpu else \"NOT AVAILABLE\")"
      ]
    },
    {
      "cell_type": "code",
      "source": [
        "keras.__version__"
      ],
      "metadata": {
        "colab": {
          "base_uri": "https://localhost:8080/",
          "height": 35
        },
        "id": "sq8CdqveOz6v",
        "outputId": "5939e3f3-bca2-4f49-cb46-b66fa1d7b129"
      },
      "execution_count": 3,
      "outputs": [
        {
          "output_type": "execute_result",
          "data": {
            "text/plain": [
              "'2.15.0'"
            ],
            "application/vnd.google.colaboratory.intrinsic+json": {
              "type": "string"
            }
          },
          "metadata": {},
          "execution_count": 3
        }
      ]
    },
    {
      "cell_type": "code",
      "source": [
        "from flash_attn import flash_attn_qkvpacked_func, flash_attn_func"
      ],
      "metadata": {
        "id": "TNQNYmOrRJQT"
      },
      "execution_count": 5,
      "outputs": []
    },
    {
      "cell_type": "code",
      "source": [
        "import math\n",
        "\n",
        "import pytest\n",
        "import torch\n",
        "import torch.nn.functional as F\n",
        "from einops import rearrange, repeat\n",
        "from flash_attn import (\n",
        "    flash_attn_func,\n",
        "    flash_attn_kvpacked_func,\n",
        "    flash_attn_qkvpacked_func,\n",
        "    flash_attn_varlen_func,\n",
        "    flash_attn_varlen_kvpacked_func,\n",
        "    flash_attn_varlen_qkvpacked_func,\n",
        "    flash_attn_with_kvcache,\n",
        ")\n",
        "from flash_attn.bert_padding import pad_input, unpad_input\n",
        "from flash_attn.flash_attn_interface import _get_block_size_n\n",
        "from flash_attn.layers.rotary import apply_rotary_emb\n",
        "\n",
        "MAX_HEADDIM_SM8x = 192"
      ],
      "metadata": {
        "id": "vd1vfBVzYAPo"
      },
      "execution_count": 6,
      "outputs": []
    },
    {
      "cell_type": "markdown",
      "source": [
        "flashattention test"
      ],
      "metadata": {
        "id": "A-ZYVsrmGu3J"
      }
    },
    {
      "cell_type": "code",
      "source": [
        "is_sm75 = torch.cuda.get_device_capability(\"cuda\") == (7, 5)\n",
        "is_sm8x = torch.cuda.get_device_capability(\"cuda\")[0] == 8\n",
        "is_sm80 = torch.cuda.get_device_capability(\"cuda\") == (8, 0)\n",
        "is_sm90 = torch.cuda.get_device_capability(\"cuda\") == (9, 0)"
      ],
      "metadata": {
        "id": "-14f-C3xYGwr"
      },
      "execution_count": 7,
      "outputs": []
    },
    {
      "cell_type": "code",
      "source": [
        "q = torch.randn(\n",
        "                  batch_size=4, seqlen=50, nheads=4, d=32, device=\"cuda\", dtype=torch.float16, requires_grad=True\n",
        "          )\n",
        "k = torch.randn(\n",
        "                  batch_size=4, seqlen=50, nheads=4, d=32, device=\"cuda\", dtype=torch.float16, requires_grad=True\n",
        "          )\n",
        "v = torch.randn(\n",
        "                  batch_size=4, seqlen=50, nhead=4, d=32, device=\"cuda\", dtype=torch.float16, requires_grad=True\n",
        "          )\n",
        "\n",
        "    out = flash_attn_func(q, k, v, dropout_p=0.0)"
      ],
      "metadata": {
        "id": "h2M_0KmdQGZG"
      },
      "execution_count": null,
      "outputs": []
    }
  ]
}